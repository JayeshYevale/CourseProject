{
 "cells": [
  {
   "cell_type": "markdown",
   "id": "b6713be6",
   "metadata": {},
   "source": [
    "# IE 411 - Final Project \n",
    "\n",
    "\n",
    "<br>\n",
    "\n",
    "**Submitted by:** Jayesh Yevale <br>\n",
    "**NetID:** jyeval2<br>"
   ]
  },
  {
   "cell_type": "markdown",
   "id": "27f6a272",
   "metadata": {},
   "source": [
    "## Introduction"
   ]
  },
  {
   "cell_type": "markdown",
   "id": "dbb91dae",
   "metadata": {},
   "source": [
    "We consider a Image for the seam carving problem. In this project, our primary objective is to tackle a large-scale linear problem using a standard programming language, which is Python in this project, in conjuction with widely known optimization tool known as Gurobi. The image seam carving problem can be formulated as a max-flow problem.\n",
    "\n",
    "In this project, we plan to utilize our knowledge of IE 411 - Optimization of Large Systems, background to implement the tool for image resizing. We will use max-flow technique to resize the image iteratively for identitfying the nodes to be eliminated. Every iteration we will identify and eliminate the nodes for next iteration. This will help us to find the final \"resized\" image as expected."
   ]
  },
  {
   "cell_type": "markdown",
   "id": "2744e625",
   "metadata": {},
   "source": [
    "## Problem Formulation"
   ]
  },
  {
   "cell_type": "markdown",
   "id": "80ee7656",
   "metadata": {},
   "source": [
    "For the problem formulation, we decided to use the given information such as the cost is the sum of absolute intensity differences, and the node traversal assumption given in the project problem documentation.\n",
    "\n",
    "We will consider the image to be a set of nodes, where each pixel denotes an independent node. Let us  us consider the graph $\\mathcal{G} = (\\mathcal{N},\\mathcal{E})$, where $\\mathcal{N}$ are nodes and $\\mathcal{E}$ are edges. The graph is created with nodes $(i,j) \\in \\mathcal{I} \\times \\mathcal{J}$, where $\\mathcal{I} = \\{1,\\ldots,m\\}$ and $\\mathcal{J} = \\{1,\\ldots,n\\}$. The nodes corresponds to pixels in the input image. Node $(k,l) \\in \\mathcal{I} \\times \\mathcal{J}$ can be traversed from node $(i,j) \\in \\mathcal{I} \\times \\mathcal{J}$ if:<br>\n",
    "(a) $k = i+1$, and <br>\n",
    "(b) $l$ is either $j-1, j$ or $j+1$.<br>\n",
    "\n",
    "The graph also has a dummy terminal node $t$ that can be traversed from any nodes $(m,j)$, $j = 1,\\ldots,n.$\n",
    "\n",
    "The cost of traversing from node $(i,j)$ to node $(k,l)$ is given by $|y(i,j)-y(k,l)|$, where $y$ is intensity of pixels."
   ]
  },
  {
   "cell_type": "markdown",
   "id": "d1d0f7eb",
   "metadata": {},
   "source": [
    "Let us now formulate a linear program to compute the shortest path from source node $(1,j)$ (where $j = 50$ in our given problem) to the terminal node $t$. The optimal path of the linear program would correspond to a seam. We will repeat the steps for 25 iteration to find the final image."
   ]
  },
  {
   "cell_type": "markdown",
   "id": "d4378c51",
   "metadata": {},
   "source": [
    "### Primal Formulation"
   ]
  },
  {
   "cell_type": "markdown",
   "id": "364ecfa6",
   "metadata": {},
   "source": [
    "**Decision variable:**\n",
    "\n",
    "$f$ : represents the actual flow on a edge.\n",
    "\n",
    "**Parameters**\n",
    "\n",
    "$\\mathbf{A}$: Incidence matrix, which captures the node-node relationship $\\in \\mathbb{R}^{m\\times n}$.\n",
    "\n",
    "$b=\\begin{cases}\n",
    "-1, \\qquad&\\text{for source node } s\\\\\n",
    "1, &\\text{for terminal node } t\\\\\n",
    "0, &\\text{else}\n",
    "\\end{cases}$\n",
    "\n",
    "$c$: Capacity of an edge (denoted as \"Cap\" in coding)\n"
   ]
  },
  {
   "cell_type": "markdown",
   "id": "95f34680",
   "metadata": {},
   "source": [
    "\\begin{equation*}\n",
    "\\begin{aligned}\n",
    "\\min&\\quad cf\\\\\n",
    "\\text{s.t.} & \\\\\n",
    "& \\mathbf{A}f = b\\\\\n",
    "& f\\ge 0\n",
    "\\end{aligned}\n",
    "\\end{equation*}"
   ]
  },
  {
   "cell_type": "markdown",
   "id": "9f63e607",
   "metadata": {},
   "source": [
    "### Dual formulation:"
   ]
  },
  {
   "cell_type": "markdown",
   "id": "55c09e5a",
   "metadata": {},
   "source": [
    "**Decision variable:**\n",
    "\n",
    "$z$ : represents the new dual decision variable."
   ]
  },
  {
   "cell_type": "markdown",
   "id": "477f7643",
   "metadata": {},
   "source": [
    "\\begin{equation*}\n",
    "\\begin{aligned}\n",
    "\\max&\\quad zb\\\\\n",
    "\\text{subject to:} & \\\\\n",
    "& \\mathbf{A}^\\top z \\le c\\\\\n",
    "&z \\text{ free}\n",
    "\\end{aligned}\n",
    "\\end{equation*}"
   ]
  },
  {
   "cell_type": "markdown",
   "id": "2115461c",
   "metadata": {},
   "source": [
    "### Complementary slackness:\n",
    "\n",
    "For complementary slackness, we considered the matrix version as shown in class (for image segmentation).\n",
    "\n",
    "\\begin{align*}\n",
    "z\\left(\\mathbf{A}f-b\\right) =0\\\\\n",
    "f\\left(c - \\mathbf{A}^\\top z\\right) = 0\n",
    "\\end{align*}"
   ]
  },
  {
   "cell_type": "markdown",
   "id": "cb170c28",
   "metadata": {},
   "source": [
    "This holds true for our cases. Hence, verified."
   ]
  },
  {
   "cell_type": "code",
   "execution_count": null,
   "id": "2ad77d9e",
   "metadata": {},
   "outputs": [],
   "source": [
    "from PIL import Image\n",
    "import gurobipy as gp\n",
    "from gurobipy import GRB\n",
    "from gurobipy import *\n",
    "import gurobipy as gp\n",
    "import numpy as np\n",
    "import networkx as nx\n",
    "import time\n",
    "import matplotlib.pyplot as plt\n",
    "import matplotlib.image as mpimg"
   ]
  },
  {
   "cell_type": "code",
   "execution_count": null,
   "id": "f69bd557",
   "metadata": {},
   "outputs": [],
   "source": [
    "im = Image.open('tower.png').convert('L') #convert to grayscale\n",
    "h = im.height\n",
    "w = im.width\n",
    "\n",
    "tic = time.time()\n",
    "\n",
    "#grayscale values; list of size h*w , where each values is integer in range [0,255]\n",
    "intensity = list(im.getdata()) \n",
    "\n",
    "def get_weight(n1,n2):\n",
    "    if n2 == t:\n",
    "        diff = 0\n",
    "    else:\n",
    "        diff = intensity[n1-1] - intensity[n2-1]\n",
    "    return np.abs(diff)\n",
    "\n",
    "#define indexes\n",
    "def idx(i,j):\n",
    "    return w*(i-1)+j\n",
    "\n",
    "#specify source node\n",
    "s = 50"
   ]
  },
  {
   "cell_type": "code",
   "execution_count": 11,
   "id": "a6a0d04f",
   "metadata": {
    "scrolled": false
   },
   "outputs": [
    {
     "name": "stdout",
     "output_type": "stream",
     "text": [
      "\n",
      "Iteration:  1 \n",
      "Primal Objective:  395.0\n",
      "Dual objective:    395.0\n",
      "Complementary slackness:  0.0\n",
      "Complementary slackness:  0.0\n",
      "\n",
      "Iteration:  2 \n",
      "Primal Objective:  402.0\n",
      "Dual objective:    402.0\n",
      "Complementary slackness:  0.0\n",
      "Complementary slackness:  0.0\n",
      "\n",
      "Iteration:  3 \n",
      "Primal Objective:  410.0\n",
      "Dual objective:    410.0\n",
      "Complementary slackness:  0.0\n",
      "Complementary slackness:  0.0\n",
      "\n",
      "Iteration:  4 \n",
      "Primal Objective:  419.0\n",
      "Dual objective:    419.0\n",
      "Complementary slackness:  0.0\n",
      "Complementary slackness:  0.0\n",
      "\n",
      "Iteration:  5 \n",
      "Primal Objective:  432.0\n",
      "Dual objective:    432.0\n",
      "Complementary slackness:  0.0\n",
      "Complementary slackness:  0.0\n",
      "\n",
      "Iteration:  6 \n",
      "Primal Objective:  436.0\n",
      "Dual objective:    436.0\n",
      "Complementary slackness:  0.0\n",
      "Complementary slackness:  0.0\n",
      "\n",
      "Iteration:  7 \n",
      "Primal Objective:  444.0\n",
      "Dual objective:    444.0\n",
      "Complementary slackness:  0.0\n",
      "Complementary slackness:  0.0\n",
      "\n",
      "Iteration:  8 \n",
      "Primal Objective:  450.0\n",
      "Dual objective:    450.0\n",
      "Complementary slackness:  0.0\n",
      "Complementary slackness:  0.0\n",
      "\n",
      "Iteration:  9 \n",
      "Primal Objective:  453.0\n",
      "Dual objective:    453.0\n",
      "Complementary slackness:  0.0\n",
      "Complementary slackness:  0.0\n",
      "\n",
      "Iteration:  10 \n",
      "Primal Objective:  457.0\n",
      "Dual objective:    457.0\n",
      "Complementary slackness:  0.0\n",
      "Complementary slackness:  0.0\n",
      "\n",
      "Iteration:  11 \n",
      "Primal Objective:  463.0\n",
      "Dual objective:    463.0\n",
      "Complementary slackness:  0.0\n",
      "Complementary slackness:  0.0\n",
      "\n",
      "Iteration:  12 \n",
      "Primal Objective:  471.0\n",
      "Dual objective:    471.0\n",
      "Complementary slackness:  0.0\n",
      "Complementary slackness:  0.0\n",
      "\n",
      "Iteration:  13 \n",
      "Primal Objective:  473.0\n",
      "Dual objective:    473.0\n",
      "Complementary slackness:  0.0\n",
      "Complementary slackness:  0.0\n",
      "\n",
      "Iteration:  14 \n",
      "Primal Objective:  478.0\n",
      "Dual objective:    478.0\n",
      "Complementary slackness:  0.0\n",
      "Complementary slackness:  0.0\n",
      "\n",
      "Iteration:  15 \n",
      "Primal Objective:  489.0\n",
      "Dual objective:    489.0\n",
      "Complementary slackness:  0.0\n",
      "Complementary slackness:  0.0\n",
      "\n",
      "Iteration:  16 \n",
      "Primal Objective:  497.0\n",
      "Dual objective:    497.0\n",
      "Complementary slackness:  0.0\n",
      "Complementary slackness:  0.0\n",
      "\n",
      "Iteration:  17 \n",
      "Primal Objective:  499.0\n",
      "Dual objective:    499.0\n",
      "Complementary slackness:  0.0\n",
      "Complementary slackness:  0.0\n",
      "\n",
      "Iteration:  18 \n",
      "Primal Objective:  504.0\n",
      "Dual objective:    504.0\n",
      "Complementary slackness:  0.0\n",
      "Complementary slackness:  0.0\n",
      "\n",
      "Iteration:  19 \n",
      "Primal Objective:  507.0\n",
      "Dual objective:    507.0\n",
      "Complementary slackness:  0.0\n",
      "Complementary slackness:  0.0\n",
      "\n",
      "Iteration:  20 \n",
      "Primal Objective:  511.0\n",
      "Dual objective:    511.0\n",
      "Complementary slackness:  0.0\n",
      "Complementary slackness:  0.0\n",
      "\n",
      "Iteration:  21 \n",
      "Primal Objective:  524.0\n",
      "Dual objective:    524.0\n",
      "Complementary slackness:  0.0\n",
      "Complementary slackness:  0.0\n",
      "\n",
      "Iteration:  22 \n",
      "Primal Objective:  528.0\n",
      "Dual objective:    528.0\n",
      "Complementary slackness:  0.0\n",
      "Complementary slackness:  0.0\n",
      "\n",
      "Iteration:  23 \n",
      "Primal Objective:  533.0\n",
      "Dual objective:    533.0\n",
      "Complementary slackness:  0.0\n",
      "Complementary slackness:  0.0\n",
      "\n",
      "Iteration:  24 \n",
      "Primal Objective:  549.0\n",
      "Dual objective:    549.0\n",
      "Complementary slackness:  0.0\n",
      "Complementary slackness:  0.0\n",
      "\n",
      "Iteration:  25 \n",
      "Primal Objective:  554.0\n",
      "Dual objective:    554.0\n",
      "Complementary slackness:  0.0\n",
      "Complementary slackness:  0.0\n"
     ]
    }
   ],
   "source": [
    "for q in range(25):\n",
    "\n",
    "    #list of coordinates\n",
    "    coords = [(i,j) for i in range(1,h+1) for j in range(1,w+1)]\n",
    "\n",
    "    nodes = [idx(i,j) for i,j in coords]\n",
    "\n",
    "    #add destination (t) to nodes\n",
    "    t = h*w+1\n",
    "    nodes.append(t)\n",
    "\n",
    "    #define neighbors\n",
    "    ngbrs = {idx(i,j): [idx(i2,j2) for (i2,j2) in [(i+1,j-1),(i+1,j),(i+1,j+1)] \n",
    "                          if 1<= i2 <= h and 1<= j2 <= w] for (i,j) in coords}\n",
    "\n",
    "    #add neighbors for destination nodes\n",
    "    for (i,j) in coords:\n",
    "        if i ==h:\n",
    "            ngbrs[idx(i,j)].append(t) \n",
    "\n",
    "    #define edges\n",
    "    edges = [(n1,n2) for n1 in nodes[:-1] for n2 in ngbrs[n1]]\n",
    "    \n",
    "    #define incident matrix\n",
    "    G = nx.DiGraph()\n",
    "    G.add_nodes_from(nodes)\n",
    "    G.add_edges_from(edges)\n",
    "    A = nx.incidence_matrix(G, oriented= True)\n",
    "    \n",
    "    #intialization\n",
    "    cap = np.zeros(G.number_of_edges())\n",
    "    r = np.zeros(G.number_of_edges())\n",
    "    for i in range(G.number_of_edges()):\n",
    "        r[i] = get_weight(edges[i][0],edges[i][1])\n",
    "    \n",
    "    #define the primal problem\n",
    "    m = gp.Model(\"Primal Image Seaming\")\n",
    "    m.setParam('OutputFlag', 0)\n",
    "    m.Params.LogToConsole = 0\n",
    "    m.Params.Method = 0\n",
    "    f = m.addMVar(G.number_of_edges(), vtype=GRB.CONTINUOUS,lb=0)\n",
    "    b = np.zeros(G.number_of_nodes())\n",
    "    b[s-1] = -1\n",
    "    b[-1] = 1\n",
    "    m.addConstr(A@f==b)    \n",
    "    obj= r@f\n",
    "    m.setObjective(obj, GRB.MINIMIZE)\n",
    "    m.optimize()\n",
    "    print(\"\\nIteration: \",q+1,\"\\nPrimal Objective: \",m.getObjective().getValue())\n",
    "    \n",
    "    if q == 0:\n",
    "        toc = time.time()\n",
    "    \n",
    "    #remove the seam nodes\n",
    "    flows = m.getAttr(\"X\", m.getVars())\n",
    "    to_remove = [] # get the indices of nodes (pixels) to be removed\n",
    "    for i in range(G.number_of_edges()):\n",
    "        if flows[i] >= 0.9:\n",
    "            to_remove.append(edges[i][0]-1) #0 indexed\n",
    "    intensity = [I for idx,I in enumerate(intensity) if idx not in to_remove]\n",
    "    w = w - 1\n",
    "    \n",
    "    #DUAL PROBLEM\n",
    "    mm = gp.Model(\"Dual Image Seaming\")\n",
    "    mm.Params.LogToConsole = 0\n",
    "    mm.Params.Method = 0\n",
    "    z = mm.addMVar(shape=G.number_of_nodes(), vtype=GRB.CONTINUOUS, name=\"z\")\n",
    "    obj = b@z\n",
    "\n",
    "    mm.addConstr(r>=A.transpose()@z)\n",
    "    mm.setObjective(obj, GRB.MAXIMIZE)\n",
    "    mm.optimize()\n",
    "    print(\"Dual objective:   \", mm.getObjective().getValue())\n",
    "    dual_vars = mm.getAttr(\"X\", mm.getVars())\n",
    "\n",
    "    #Check complementary slackness conditions\n",
    "    cuts = dual_vars[:G.number_of_edges()]\n",
    "    y = dual_vars[G.number_of_edges():]\n",
    "    cmaxflows = A@flows - b\n",
    "    print('Complementary slackness: ', cmaxflows@cuts)\n",
    "    Aty_plus_z_min_r = r - A.transpose()@dual_vars\n",
    "    print('Complementary slackness: ', Aty_plus_z_min_r@flows)"
   ]
  },
  {
   "cell_type": "code",
   "execution_count": 12,
   "id": "64e38122",
   "metadata": {},
   "outputs": [
    {
     "name": "stdout",
     "output_type": "stream",
     "text": [
      "elapsed  18.224509477615356\n"
     ]
    }
   ],
   "source": [
    "# resize final intensities and save as an image\n",
    "arr = np.reshape(intensity,(h,w)).astype('uint8')\n",
    "final_image = Image.fromarray(arr)\n",
    "final_image.save('final_image.png')\n",
    "\n",
    "print ('elapsed ', toc - tic)"
   ]
  },
  {
   "cell_type": "code",
   "execution_count": 13,
   "id": "d3369af3",
   "metadata": {},
   "outputs": [
    {
     "data": {
      "image/png": "[encoded data removed]",
      "text/plain": [
       "<PIL.Image.Image image mode=L size=149x120>"
      ]
     },
     "execution_count": 13,
     "metadata": {},
     "output_type": "execute_result"
    }
   ],
   "source": [
    "final_image"
   ]
  },
  {
   "cell_type": "code",
   "execution_count": null,
   "id": "e6d2b11b",
   "metadata": {},
   "outputs": [],
   "source": []
  }
 ],
 "metadata": {
  "kernelspec": {
   "display_name": "Python 3 (ipykernel)",
   "language": "python",
   "name": "python3"
  },
  "language_info": {
   "codemirror_mode": {
    "name": "ipython",
    "version": 3
   },
   "file_extension": ".py",
   "mimetype": "text/x-python",
   "name": "python",
   "nbconvert_exporter": "python",
   "pygments_lexer": "ipython3",
   "version": "3.11.4"
  }
 },
 "nbformat": 4,
 "nbformat_minor": 5
}
